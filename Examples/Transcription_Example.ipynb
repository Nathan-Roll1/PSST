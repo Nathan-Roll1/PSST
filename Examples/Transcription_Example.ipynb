{
  "nbformat": 4,
  "nbformat_minor": 0,
  "metadata": {
    "colab": {
      "provenance": [],
      "include_colab_link": true
    },
    "kernelspec": {
      "name": "python3",
      "display_name": "Python 3"
    },
    "language_info": {
      "name": "python"
    },
    "accelerator": "GPU",
    "gpuClass": "standard"
  },
  "cells": [
    {
      "cell_type": "markdown",
      "metadata": {
        "id": "view-in-github",
        "colab_type": "text"
      },
      "source": [
        "<a href=\"https://colab.research.google.com/github/Nathan-Roll1/PSST/blob/main/Examples/Transcription_Example.ipynb\" target=\"_parent\"><img src=\"https://colab.research.google.com/assets/colab-badge.svg\" alt=\"Open In Colab\"/></a>"
      ]
    },
    {
      "cell_type": "markdown",
      "source": [
        "# PSST - Prosodic Speech Segmentation with transformers"
      ],
      "metadata": {
        "id": "g6r4TWN2y7b9"
      }
    },
    {
      "cell_type": "markdown",
      "source": [
        "Install transformers module"
      ],
      "metadata": {
        "id": "HHfmoO2SzCMY"
      }
    },
    {
      "cell_type": "code",
      "source": [
        "!pip install transformers"
      ],
      "metadata": {
        "id": "8uoQONZBhTSe"
      },
      "execution_count": null,
      "outputs": []
    },
    {
      "cell_type": "markdown",
      "source": [
        "import libraries"
      ],
      "metadata": {
        "id": "hA4msuljzFFo"
      }
    },
    {
      "cell_type": "code",
      "source": [
        "from transformers import AutoProcessor, AutoModelForSpeechSeq2Seq\n",
        "import librosa"
      ],
      "metadata": {
        "id": "4i9kDcKAyx8w"
      },
      "execution_count": null,
      "outputs": []
    },
    {
      "cell_type": "markdown",
      "source": [
        "Define initialization function"
      ],
      "metadata": {
        "id": "ePl5yOETzKfq"
      }
    },
    {
      "cell_type": "code",
      "execution_count": null,
      "metadata": {
        "id": "LqAaywKnhJ4E"
      },
      "outputs": [],
      "source": [
        "def init_model_processor(gpu=False):\n",
        "  \"\"\" Initializes the model and processor with the pre-trained weights.\n",
        "\n",
        "  Returns:\n",
        "    model (AutoModelForSpeechSeq2Seq): A model with the pre-trained weights.\n",
        "    processor (AutoProcessor): Processes audio data.\n",
        "  \"\"\"\n",
        "  # Initialize the processor with the pre-trained weights\n",
        "  processor = AutoProcessor.from_pretrained(\"NathanRoll/psst-medium-en\")\n",
        "\n",
        "  if gpu:\n",
        "    # Initialize the model with the pre-trained weights and move it to the gpu\n",
        "    model = AutoModelForSpeechSeq2Seq.from_pretrained(\"NathanRoll/psst-medium-en\").to(\"cuda:0\")\n",
        "  else:\n",
        "    # Initialize the model with the pre-trained weights\n",
        "    model = AutoModelForSpeechSeq2Seq.from_pretrained(\"NathanRoll/psst-medium-en\")\n",
        "\n",
        "  return model, processor"
      ]
    },
    {
      "cell_type": "markdown",
      "source": [
        "Define generation function"
      ],
      "metadata": {
        "id": "NuBUmqITzLhT"
      }
    },
    {
      "cell_type": "code",
      "source": [
        "def generate_transcription(audio, gpu=False):\n",
        "  \"\"\"Generate a transcription from audio using a pre-trained model\n",
        "\n",
        "  Args:\n",
        "    audio: The audio to be transcribed\n",
        "    gpu: Whether to use GPU or not. Defaults to False.\n",
        "\n",
        "  Returns:\n",
        "    transcription: The transcribed text\n",
        "  \"\"\"\n",
        "  # Preprocess audio and return tensors\n",
        "  inputs = processor(audio, return_tensors=\"pt\", sampling_rate=16000)\n",
        "\n",
        "  # Assign inputs to GPU or CPU based on argument\n",
        "  if gpu:\n",
        "    input_features = inputs.input_features.cuda()\n",
        "  else:\n",
        "    input_features = inputs.input_features\n",
        "\n",
        "  # Generate transcribed ids\n",
        "  generated_ids = model.generate(inputs=input_features, max_length=250)\n",
        "\n",
        "  # Decode generated ids and replace special tokens\n",
        "  transcription = processor.batch_decode(\n",
        "      generated_ids, skip_special_tokens=True, output_word_offsets=True)[0].replace('!!!!!', '<|IU_Boundary|>')\n",
        "\n",
        "  return transcription"
      ],
      "metadata": {
        "id": "ze1AX4w7vTNL"
      },
      "execution_count": null,
      "outputs": []
    },
    {
      "cell_type": "markdown",
      "source": [
        "Load and resample audio file"
      ],
      "metadata": {
        "id": "3I1Hr1iMzOlf"
      }
    },
    {
      "cell_type": "code",
      "source": [
        "y, sr = librosa.load('gettysburg.wav')\n",
        "audio = librosa.resample(y, orig_sr=sr, target_sr=16000)"
      ],
      "metadata": {
        "id": "tQuh5anxtihu"
      },
      "execution_count": null,
      "outputs": []
    },
    {
      "cell_type": "markdown",
      "source": [
        "Initialize model and processor"
      ],
      "metadata": {
        "id": "vktjEPkLzRzD"
      }
    },
    {
      "cell_type": "code",
      "source": [
        "model, processor = init_model_processor(gpu=True)"
      ],
      "metadata": {
        "id": "qy5uXhISt_GZ"
      },
      "execution_count": null,
      "outputs": []
    },
    {
      "cell_type": "markdown",
      "source": [
        "Generate Transcription"
      ],
      "metadata": {
        "id": "y-gzXizbzV-M"
      }
    },
    {
      "cell_type": "code",
      "source": [
        "transcript = generate_transcription(audio, gpu=True)\n",
        "transcript"
      ],
      "metadata": {
        "colab": {
          "base_uri": "https://localhost:8080/",
          "height": 70
        },
        "id": "BklPIkiGvpiO",
        "outputId": "ea67c814-a2e5-467b-9875-ff2445eb128b"
      },
      "execution_count": null,
      "outputs": [
        {
          "output_type": "execute_result",
          "data": {
            "text/plain": [
              "'Four score and seven years ago <|IU_Boundary|> our fathers brought forth on this continent <|IU_Boundary|> a new nation <|IU_Boundary|> conceived in liberty <|IU_Boundary|> and dedicated to the proposition <|IU_Boundary|> that all men are created equal <|IU_Boundary|> Now we are engaged in a great civil war <|IU_Boundary|> testing whether that nation <|IU_Boundary|> or any nation so conceived and so dedicated <|IU_Boundary|> can long endure'"
            ],
            "application/vnd.google.colaboratory.intrinsic+json": {
              "type": "string"
            }
          },
          "metadata": {},
          "execution_count": 10
        }
      ]
    }
  ]
}