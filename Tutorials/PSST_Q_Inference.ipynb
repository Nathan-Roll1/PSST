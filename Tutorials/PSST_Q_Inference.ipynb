{
  "nbformat": 4,
  "nbformat_minor": 0,
  "metadata": {
    "colab": {
      "provenance": [],
      "machine_shape": "hm",
      "include_colab_link": true
    },
    "kernelspec": {
      "name": "python3",
      "display_name": "Python 3"
    },
    "language_info": {
      "name": "python"
    }
  },
  "cells": [
    {
      "cell_type": "markdown",
      "metadata": {
        "id": "view-in-github",
        "colab_type": "text"
      },
      "source": [
        "<a href=\"https://colab.research.google.com/github/Nathan-Roll1/PSST/blob/main/Tutorials/PSST_Q_Inference.ipynb\" target=\"_parent\"><img src=\"https://colab.research.google.com/assets/colab-badge.svg\" alt=\"Open In Colab\"/></a>"
      ]
    },
    {
      "cell_type": "markdown",
      "source": [
        "Install Necessary Packages"
      ],
      "metadata": {
        "id": "ab80btSRO79q"
      }
    },
    {
      "cell_type": "code",
      "source": [
        "!python -m pip install optimum[onnxruntime]@git+https://github.com/Nathan-Roll1/optimum-CPU-PSST\n",
        "# Custom fork to overcome CuPy requirement on CPU\n",
        "\n",
        "!pip install -U transformers torch"
      ],
      "metadata": {
        "id": "585Dy6RDwD6m"
      },
      "execution_count": null,
      "outputs": []
    },
    {
      "cell_type": "markdown",
      "source": [
        "Import modules"
      ],
      "metadata": {
        "id": "wrUzA30APHpn"
      }
    },
    {
      "cell_type": "code",
      "source": [
        "from transformers import pipeline, AutoTokenizer, AutoFeatureExtractor\n",
        "from optimum.onnxruntime import (\n",
        "    AutoQuantizationConfig,\n",
        "    ORTModelForSpeechSeq2Seq,\n",
        "    ORTQuantizer\n",
        ")"
      ],
      "metadata": {
        "id": "6xZ1j89LPSy8"
      },
      "execution_count": null,
      "outputs": []
    },
    {
      "cell_type": "markdown",
      "source": [
        "Create inference Pipeline"
      ],
      "metadata": {
        "id": "DRlyj2-dPVr4"
      }
    },
    {
      "cell_type": "code",
      "execution_count": null,
      "metadata": {
        "id": "eQYPS_92xwJx"
      },
      "outputs": [],
      "source": [
        "model_dir = \"NathanRoll/psst-medium-en-q\"\n",
        "\n",
        "model = ORTModelForSpeechSeq2Seq.from_pretrained(model_dir, provider=\"CPUExecutionProvider\")\n",
        "tokenizer = AutoTokenizer.from_pretrained(model_dir)\n",
        "feature_extractor = AutoFeatureExtractor.from_pretrained(model_dir)\n",
        "cls_pipeline_onnx = pipeline(\"automatic-speech-recognition\", model=model, tokenizer=tokenizer, feature_extractor=feature_extractor)"
      ]
    },
    {
      "cell_type": "markdown",
      "source": [
        "Generate transcription! (*!!!!! = IU Boundary*)"
      ],
      "metadata": {
        "id": "we3wimayPaBC"
      }
    },
    {
      "cell_type": "code",
      "source": [
        "inference_file = \"gettysburg.wav\"\n",
        "cls_pipeline_onnx(inference_file) #22s #41s"
      ],
      "metadata": {
        "colab": {
          "base_uri": "https://localhost:8080/"
        },
        "id": "jZiMWElt5CUP",
        "outputId": "a5568f28-23aa-41b9-d6cc-2746cea07b60"
      },
      "execution_count": 5,
      "outputs": [
        {
          "output_type": "execute_result",
          "data": {
            "text/plain": [
              "{'text': 'Four score and seven years ago!!!!! our fathers brought forth on this continent!!!!! a new nation!!!!! conceived in liberty!!!!! and dedicated to the proposition!!!!! that all men are created equal!!!!! Now we are engaged in a great civil war!!!!! testing whether that nation!!!!! or any nation so conceived and so dedicated!!!!! can long endure'}"
            ]
          },
          "metadata": {},
          "execution_count": 5
        }
      ]
    },
    {
      "cell_type": "markdown",
      "source": [
        "Also works with librosa, useful to feed audio longer than 30s!"
      ],
      "metadata": {
        "id": "Y7oiRxq3OsFm"
      }
    },
    {
      "cell_type": "code",
      "source": [
        "import librosa\n",
        "y, sr = librosa.load('gettysburg.wav')"
      ],
      "metadata": {
        "id": "-Z6xlNYlNNWx"
      },
      "execution_count": 12,
      "outputs": []
    },
    {
      "cell_type": "code",
      "source": [
        "cls_pipeline_onnx(y)"
      ],
      "metadata": {
        "colab": {
          "base_uri": "https://localhost:8080/"
        },
        "id": "kjVQWe32NRzL",
        "outputId": "0b6bb146-6a41-4b19-c907-293aee9ad8f7"
      },
      "execution_count": 14,
      "outputs": [
        {
          "output_type": "execute_result",
          "data": {
            "text/plain": [
              "{'text': 'Four score and seven years ago!!!!! our fathers brought forth on this continent!!!!! a new nation!!!!! conceived in liberty!!!!! and dedicated to the proposition!!!!! that all men are created equal!!!!! Now we are engaged in a great civil war!!!!! testing whether that nation!!!!! or any nation so conceived and so dedicated!!!!! can long endure'}"
            ]
          },
          "metadata": {},
          "execution_count": 14
        }
      ]
    }
  ]
}