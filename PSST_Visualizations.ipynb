{
  "cells": [
    {
      "cell_type": "markdown",
      "metadata": {
        "id": "view-in-github",
        "colab_type": "text"
      },
      "source": [
        "<a href=\"https://colab.research.google.com/github/Nathan-Roll1/PSST/blob/main/PSST_Visualizations.ipynb\" target=\"_parent\"><img src=\"https://colab.research.google.com/assets/colab-badge.svg\" alt=\"Open In Colab\"/></a>"
      ]
    },
    {
      "cell_type": "markdown",
      "metadata": {
        "id": "Iqdn93cRUpUQ"
      },
      "source": [
        "# Init"
      ]
    },
    {
      "cell_type": "code",
      "execution_count": null,
      "metadata": {
        "colab": {
          "base_uri": "https://localhost:8080/"
        },
        "id": "5vLBqqgnRMVf",
        "outputId": "a781cf71-6026-4733-bc53-1a4d9043a5a2"
      },
      "outputs": [
        {
          "output_type": "stream",
          "name": "stdout",
          "text": [
            "Reading package lists... Done\n",
            "Building dependency tree       \n",
            "Reading state information... Done\n",
            "The following package was automatically installed and is no longer required:\n",
            "  libnvidia-common-460\n",
            "Use 'sudo apt autoremove' to remove it.\n",
            "The following additional packages will be installed:\n",
            "  cm-super-minimal fonts-droid-fallback fonts-lato fonts-lmodern\n",
            "  fonts-noto-mono fonts-texgyre ghostscript gsfonts javascript-common\n",
            "  libcupsfilters1 libcupsimage2 libgs9 libgs9-common libijs-0.35 libjbig2dec0\n",
            "  libjs-jquery libkpathsea6 libpotrace0 libptexenc1 libruby2.5 libsynctex1\n",
            "  libtexlua52 libtexluajit2 libzzip-0-13 lmodern pfb2t1c2pfb poppler-data\n",
            "  preview-latex-style rake ruby ruby-did-you-mean ruby-minitest\n",
            "  ruby-net-telnet ruby-power-assert ruby-test-unit ruby2.5\n",
            "  rubygems-integration t1utils tex-common tex-gyre texlive-base\n",
            "  texlive-binaries texlive-latex-base texlive-latex-recommended\n",
            "  texlive-pictures texlive-plain-generic tipa\n",
            "Suggested packages:\n",
            "  fonts-noto ghostscript-x apache2 | lighttpd | httpd poppler-utils\n",
            "  fonts-japanese-mincho | fonts-ipafont-mincho fonts-japanese-gothic\n",
            "  | fonts-ipafont-gothic fonts-arphic-ukai fonts-arphic-uming fonts-nanum ri\n",
            "  ruby-dev bundler debhelper perl-tk xpdf-reader | pdf-viewer\n",
            "  texlive-fonts-recommended-doc texlive-latex-base-doc python-pygments\n",
            "  icc-profiles libfile-which-perl libspreadsheet-parseexcel-perl\n",
            "  texlive-latex-extra-doc texlive-latex-recommended-doc texlive-pstricks\n",
            "  dot2tex prerex ruby-tcltk | libtcltk-ruby texlive-pictures-doc vprerex\n",
            "The following NEW packages will be installed:\n",
            "  cm-super cm-super-minimal dvipng fonts-droid-fallback fonts-lato\n",
            "  fonts-lmodern fonts-noto-mono fonts-texgyre ghostscript gsfonts\n",
            "  javascript-common libcupsfilters1 libcupsimage2 libgs9 libgs9-common\n",
            "  libijs-0.35 libjbig2dec0 libjs-jquery libkpathsea6 libpotrace0 libptexenc1\n",
            "  libruby2.5 libsynctex1 libtexlua52 libtexluajit2 libzzip-0-13 lmodern\n",
            "  pfb2t1c2pfb poppler-data preview-latex-style rake ruby ruby-did-you-mean\n",
            "  ruby-minitest ruby-net-telnet ruby-power-assert ruby-test-unit ruby2.5\n",
            "  rubygems-integration t1utils tex-common tex-gyre texlive-base\n",
            "  texlive-binaries texlive-fonts-recommended texlive-latex-base\n",
            "  texlive-latex-extra texlive-latex-recommended texlive-pictures\n",
            "  texlive-plain-generic tipa\n",
            "0 upgraded, 51 newly installed, 0 to remove and 21 not upgraded.\n",
            "Need to get 163 MB of archives.\n",
            "After this operation, 503 MB of additional disk space will be used.\n",
            "Get:1 http://archive.ubuntu.com/ubuntu bionic/main amd64 fonts-droid-fallback all 1:6.0.1r16-1.1 [1,805 kB]\n",
            "Get:2 http://archive.ubuntu.com/ubuntu bionic/main amd64 fonts-lato all 2.0-2 [2,698 kB]\n",
            "Get:3 http://archive.ubuntu.com/ubuntu bionic/main amd64 poppler-data all 0.4.8-2 [1,479 kB]\n",
            "Get:4 http://archive.ubuntu.com/ubuntu bionic/main amd64 tex-common all 6.09 [33.0 kB]\n",
            "Get:5 http://archive.ubuntu.com/ubuntu bionic-updates/main amd64 libkpathsea6 amd64 2017.20170613.44572-8ubuntu0.1 [54.9 kB]\n",
            "Get:6 http://archive.ubuntu.com/ubuntu bionic-updates/main amd64 libptexenc1 amd64 2017.20170613.44572-8ubuntu0.1 [34.5 kB]\n",
            "Get:7 http://archive.ubuntu.com/ubuntu bionic-updates/main amd64 libsynctex1 amd64 2017.20170613.44572-8ubuntu0.1 [41.4 kB]\n",
            "Get:8 http://archive.ubuntu.com/ubuntu bionic-updates/main amd64 libtexlua52 amd64 2017.20170613.44572-8ubuntu0.1 [91.2 kB]\n",
            "Get:9 http://archive.ubuntu.com/ubuntu bionic-updates/main amd64 libtexluajit2 amd64 2017.20170613.44572-8ubuntu0.1 [230 kB]\n",
            "Get:10 http://archive.ubuntu.com/ubuntu bionic/main amd64 t1utils amd64 1.41-2 [56.0 kB]\n",
            "Get:11 http://archive.ubuntu.com/ubuntu bionic-updates/main amd64 libcupsimage2 amd64 2.2.7-1ubuntu2.9 [18.6 kB]\n",
            "Get:12 http://archive.ubuntu.com/ubuntu bionic/main amd64 libijs-0.35 amd64 0.35-13 [15.5 kB]\n",
            "Get:13 http://archive.ubuntu.com/ubuntu bionic/main amd64 libjbig2dec0 amd64 0.13-6 [55.9 kB]\n",
            "Get:14 http://archive.ubuntu.com/ubuntu bionic-updates/main amd64 libgs9-common all 9.26~dfsg+0-0ubuntu0.18.04.17 [5,092 kB]\n",
            "Get:15 http://archive.ubuntu.com/ubuntu bionic-updates/main amd64 libgs9 amd64 9.26~dfsg+0-0ubuntu0.18.04.17 [2,267 kB]\n",
            "Get:16 http://archive.ubuntu.com/ubuntu bionic/main amd64 libpotrace0 amd64 1.14-2 [17.4 kB]\n",
            "Get:17 http://archive.ubuntu.com/ubuntu bionic-updates/main amd64 libzzip-0-13 amd64 0.13.62-3.1ubuntu0.18.04.1 [26.0 kB]\n",
            "Get:18 http://archive.ubuntu.com/ubuntu bionic-updates/main amd64 texlive-binaries amd64 2017.20170613.44572-8ubuntu0.1 [8,179 kB]\n",
            "Get:19 http://archive.ubuntu.com/ubuntu bionic/main amd64 texlive-base all 2017.20180305-1 [18.7 MB]\n",
            "Get:20 http://archive.ubuntu.com/ubuntu bionic/main amd64 fonts-lmodern all 2.004.5-3 [4,551 kB]\n",
            "Get:21 http://archive.ubuntu.com/ubuntu bionic/main amd64 texlive-latex-base all 2017.20180305-1 [951 kB]\n",
            "Get:22 http://archive.ubuntu.com/ubuntu bionic/main amd64 texlive-latex-recommended all 2017.20180305-1 [14.9 MB]\n",
            "Get:23 http://archive.ubuntu.com/ubuntu bionic/universe amd64 cm-super-minimal all 0.3.4-11 [5,810 kB]\n",
            "Get:24 http://archive.ubuntu.com/ubuntu bionic/universe amd64 pfb2t1c2pfb amd64 0.3-11 [9,342 B]\n",
            "Get:25 http://archive.ubuntu.com/ubuntu bionic/universe amd64 cm-super all 0.3.4-11 [18.7 MB]\n",
            "Get:26 http://archive.ubuntu.com/ubuntu bionic-updates/main amd64 ghostscript amd64 9.26~dfsg+0-0ubuntu0.18.04.17 [51.3 kB]\n",
            "Get:27 http://archive.ubuntu.com/ubuntu bionic/universe amd64 dvipng amd64 1.15-1 [78.2 kB]\n",
            "Get:28 http://archive.ubuntu.com/ubuntu bionic/main amd64 fonts-noto-mono all 20171026-2 [75.5 kB]\n",
            "Get:29 http://archive.ubuntu.com/ubuntu bionic/universe amd64 fonts-texgyre all 20160520-1 [8,761 kB]\n",
            "Get:30 http://archive.ubuntu.com/ubuntu bionic/main amd64 gsfonts all 1:8.11+urwcyr1.0.7~pre44-4.4 [3,120 kB]\n",
            "Get:31 http://archive.ubuntu.com/ubuntu bionic/main amd64 javascript-common all 11 [6,066 B]\n",
            "Get:32 http://archive.ubuntu.com/ubuntu bionic-updates/main amd64 libcupsfilters1 amd64 1.20.2-0ubuntu3.1 [108 kB]\n",
            "Get:33 http://archive.ubuntu.com/ubuntu bionic/main amd64 libjs-jquery all 3.2.1-1 [152 kB]\n",
            "Get:34 http://archive.ubuntu.com/ubuntu bionic/main amd64 rubygems-integration all 1.11 [4,994 B]\n",
            "Get:35 http://archive.ubuntu.com/ubuntu bionic-updates/main amd64 ruby2.5 amd64 2.5.1-1ubuntu1.12 [48.6 kB]\n",
            "Get:36 http://archive.ubuntu.com/ubuntu bionic/main amd64 ruby amd64 1:2.5.1 [5,712 B]\n",
            "Get:37 http://archive.ubuntu.com/ubuntu bionic-updates/main amd64 rake all 12.3.1-1ubuntu0.1 [44.9 kB]\n",
            "Get:38 http://archive.ubuntu.com/ubuntu bionic/main amd64 ruby-did-you-mean all 1.2.0-2 [9,700 B]\n",
            "Get:39 http://archive.ubuntu.com/ubuntu bionic/main amd64 ruby-minitest all 5.10.3-1 [38.6 kB]\n",
            "Get:40 http://archive.ubuntu.com/ubuntu bionic/main amd64 ruby-net-telnet all 0.1.1-2 [12.6 kB]\n",
            "Get:41 http://archive.ubuntu.com/ubuntu bionic/main amd64 ruby-power-assert all 0.3.0-1 [7,952 B]\n",
            "Get:42 http://archive.ubuntu.com/ubuntu bionic/main amd64 ruby-test-unit all 3.2.5-1 [61.1 kB]\n",
            "Get:43 http://archive.ubuntu.com/ubuntu bionic-updates/main amd64 libruby2.5 amd64 2.5.1-1ubuntu1.12 [3,073 kB]\n",
            "Get:44 http://archive.ubuntu.com/ubuntu bionic/main amd64 lmodern all 2.004.5-3 [9,631 kB]\n",
            "Get:45 http://archive.ubuntu.com/ubuntu bionic/main amd64 preview-latex-style all 11.91-1ubuntu1 [185 kB]\n",
            "Get:46 http://archive.ubuntu.com/ubuntu bionic/universe amd64 tex-gyre all 20160520-1 [4,998 kB]\n",
            "Get:47 http://archive.ubuntu.com/ubuntu bionic/universe amd64 texlive-fonts-recommended all 2017.20180305-1 [5,262 kB]\n",
            "Get:48 http://archive.ubuntu.com/ubuntu bionic/universe amd64 texlive-pictures all 2017.20180305-1 [4,026 kB]\n",
            "Get:49 http://archive.ubuntu.com/ubuntu bionic/universe amd64 texlive-latex-extra all 2017.20180305-2 [10.6 MB]\n",
            "Get:50 http://archive.ubuntu.com/ubuntu bionic/universe amd64 texlive-plain-generic all 2017.20180305-2 [23.6 MB]\n",
            "Get:51 http://archive.ubuntu.com/ubuntu bionic/universe amd64 tipa all 2:1.3-20 [2,978 kB]\n",
            "Fetched 163 MB in 10s (15.6 MB/s)\n",
            "debconf: unable to initialize frontend: Dialog\n",
            "debconf: (No usable dialog-like program is installed, so the dialog based frontend cannot be used. at /usr/share/perl5/Debconf/FrontEnd/Dialog.pm line 76, <> line 51.)\n",
            "debconf: falling back to frontend: Readline\n",
            "debconf: unable to initialize frontend: Readline\n",
            "debconf: (This frontend requires a controlling tty.)\n",
            "debconf: falling back to frontend: Teletype\n",
            "dpkg-preconfigure: unable to re-open stdin: \n",
            "Selecting previously unselected package fonts-droid-fallback.\n",
            "(Reading database ... 124016 files and directories currently installed.)\n",
            "Preparing to unpack .../00-fonts-droid-fallback_1%3a6.0.1r16-1.1_all.deb ...\n",
            "Unpacking fonts-droid-fallback (1:6.0.1r16-1.1) ...\n",
            "Selecting previously unselected package fonts-lato.\n",
            "Preparing to unpack .../01-fonts-lato_2.0-2_all.deb ...\n",
            "Unpacking fonts-lato (2.0-2) ...\n",
            "Selecting previously unselected package poppler-data.\n",
            "Preparing to unpack .../02-poppler-data_0.4.8-2_all.deb ...\n",
            "Unpacking poppler-data (0.4.8-2) ...\n",
            "Selecting previously unselected package tex-common.\n",
            "Preparing to unpack .../03-tex-common_6.09_all.deb ...\n",
            "Unpacking tex-common (6.09) ...\n",
            "Selecting previously unselected package libkpathsea6:amd64.\n",
            "Preparing to unpack .../04-libkpathsea6_2017.20170613.44572-8ubuntu0.1_amd64.deb ...\n",
            "Unpacking libkpathsea6:amd64 (2017.20170613.44572-8ubuntu0.1) ...\n",
            "Selecting previously unselected package libptexenc1:amd64.\n",
            "Preparing to unpack .../05-libptexenc1_2017.20170613.44572-8ubuntu0.1_amd64.deb ...\n",
            "Unpacking libptexenc1:amd64 (2017.20170613.44572-8ubuntu0.1) ...\n",
            "Selecting previously unselected package libsynctex1:amd64.\n",
            "Preparing to unpack .../06-libsynctex1_2017.20170613.44572-8ubuntu0.1_amd64.deb ...\n",
            "Unpacking libsynctex1:amd64 (2017.20170613.44572-8ubuntu0.1) ...\n",
            "Selecting previously unselected package libtexlua52:amd64.\n",
            "Preparing to unpack .../07-libtexlua52_2017.20170613.44572-8ubuntu0.1_amd64.deb ...\n",
            "Unpacking libtexlua52:amd64 (2017.20170613.44572-8ubuntu0.1) ...\n",
            "Selecting previously unselected package libtexluajit2:amd64.\n",
            "Preparing to unpack .../08-libtexluajit2_2017.20170613.44572-8ubuntu0.1_amd64.deb ...\n",
            "Unpacking libtexluajit2:amd64 (2017.20170613.44572-8ubuntu0.1) ...\n",
            "Selecting previously unselected package t1utils.\n",
            "Preparing to unpack .../09-t1utils_1.41-2_amd64.deb ...\n",
            "Unpacking t1utils (1.41-2) ...\n",
            "Selecting previously unselected package libcupsimage2:amd64.\n",
            "Preparing to unpack .../10-libcupsimage2_2.2.7-1ubuntu2.9_amd64.deb ...\n",
            "Unpacking libcupsimage2:amd64 (2.2.7-1ubuntu2.9) ...\n",
            "Selecting previously unselected package libijs-0.35:amd64.\n",
            "Preparing to unpack .../11-libijs-0.35_0.35-13_amd64.deb ...\n",
            "Unpacking libijs-0.35:amd64 (0.35-13) ...\n",
            "Selecting previously unselected package libjbig2dec0:amd64.\n",
            "Preparing to unpack .../12-libjbig2dec0_0.13-6_amd64.deb ...\n",
            "Unpacking libjbig2dec0:amd64 (0.13-6) ...\n",
            "Selecting previously unselected package libgs9-common.\n",
            "Preparing to unpack .../13-libgs9-common_9.26~dfsg+0-0ubuntu0.18.04.17_all.deb ...\n",
            "Unpacking libgs9-common (9.26~dfsg+0-0ubuntu0.18.04.17) ...\n",
            "Selecting previously unselected package libgs9:amd64.\n",
            "Preparing to unpack .../14-libgs9_9.26~dfsg+0-0ubuntu0.18.04.17_amd64.deb ...\n",
            "Unpacking libgs9:amd64 (9.26~dfsg+0-0ubuntu0.18.04.17) ...\n",
            "Selecting previously unselected package libpotrace0.\n",
            "Preparing to unpack .../15-libpotrace0_1.14-2_amd64.deb ...\n",
            "Unpacking libpotrace0 (1.14-2) ...\n",
            "Selecting previously unselected package libzzip-0-13:amd64.\n",
            "Preparing to unpack .../16-libzzip-0-13_0.13.62-3.1ubuntu0.18.04.1_amd64.deb ...\n",
            "Unpacking libzzip-0-13:amd64 (0.13.62-3.1ubuntu0.18.04.1) ...\n",
            "Selecting previously unselected package texlive-binaries.\n",
            "Preparing to unpack .../17-texlive-binaries_2017.20170613.44572-8ubuntu0.1_amd64.deb ...\n",
            "Unpacking texlive-binaries (2017.20170613.44572-8ubuntu0.1) ...\n",
            "Selecting previously unselected package texlive-base.\n",
            "Preparing to unpack .../18-texlive-base_2017.20180305-1_all.deb ...\n",
            "Unpacking texlive-base (2017.20180305-1) ...\n",
            "Selecting previously unselected package fonts-lmodern.\n",
            "Preparing to unpack .../19-fonts-lmodern_2.004.5-3_all.deb ...\n",
            "Unpacking fonts-lmodern (2.004.5-3) ...\n",
            "Selecting previously unselected package texlive-latex-base.\n",
            "Preparing to unpack .../20-texlive-latex-base_2017.20180305-1_all.deb ...\n",
            "Unpacking texlive-latex-base (2017.20180305-1) ...\n",
            "Selecting previously unselected package texlive-latex-recommended.\n",
            "Preparing to unpack .../21-texlive-latex-recommended_2017.20180305-1_all.deb ...\n",
            "Unpacking texlive-latex-recommended (2017.20180305-1) ...\n",
            "Selecting previously unselected package cm-super-minimal.\n",
            "Preparing to unpack .../22-cm-super-minimal_0.3.4-11_all.deb ...\n",
            "Unpacking cm-super-minimal (0.3.4-11) ...\n",
            "Selecting previously unselected package pfb2t1c2pfb.\n",
            "Preparing to unpack .../23-pfb2t1c2pfb_0.3-11_amd64.deb ...\n",
            "Unpacking pfb2t1c2pfb (0.3-11) ...\n",
            "Selecting previously unselected package cm-super.\n",
            "Preparing to unpack .../24-cm-super_0.3.4-11_all.deb ...\n",
            "Unpacking cm-super (0.3.4-11) ...\n",
            "Selecting previously unselected package ghostscript.\n",
            "Preparing to unpack .../25-ghostscript_9.26~dfsg+0-0ubuntu0.18.04.17_amd64.deb ...\n",
            "Unpacking ghostscript (9.26~dfsg+0-0ubuntu0.18.04.17) ...\n",
            "Selecting previously unselected package dvipng.\n",
            "Preparing to unpack .../26-dvipng_1.15-1_amd64.deb ...\n",
            "Unpacking dvipng (1.15-1) ...\n",
            "Selecting previously unselected package fonts-noto-mono.\n",
            "Preparing to unpack .../27-fonts-noto-mono_20171026-2_all.deb ...\n",
            "Unpacking fonts-noto-mono (20171026-2) ...\n",
            "Selecting previously unselected package fonts-texgyre.\n",
            "Preparing to unpack .../28-fonts-texgyre_20160520-1_all.deb ...\n",
            "Unpacking fonts-texgyre (20160520-1) ...\n",
            "Selecting previously unselected package gsfonts.\n",
            "Preparing to unpack .../29-gsfonts_1%3a8.11+urwcyr1.0.7~pre44-4.4_all.deb ...\n",
            "Unpacking gsfonts (1:8.11+urwcyr1.0.7~pre44-4.4) ...\n",
            "Selecting previously unselected package javascript-common.\n",
            "Preparing to unpack .../30-javascript-common_11_all.deb ...\n",
            "Unpacking javascript-common (11) ...\n",
            "Selecting previously unselected package libcupsfilters1:amd64.\n",
            "Preparing to unpack .../31-libcupsfilters1_1.20.2-0ubuntu3.1_amd64.deb ...\n",
            "Unpacking libcupsfilters1:amd64 (1.20.2-0ubuntu3.1) ...\n",
            "Selecting previously unselected package libjs-jquery.\n",
            "Preparing to unpack .../32-libjs-jquery_3.2.1-1_all.deb ...\n",
            "Unpacking libjs-jquery (3.2.1-1) ...\n",
            "Selecting previously unselected package rubygems-integration.\n",
            "Preparing to unpack .../33-rubygems-integration_1.11_all.deb ...\n",
            "Unpacking rubygems-integration (1.11) ...\n",
            "Selecting previously unselected package ruby2.5.\n",
            "Preparing to unpack .../34-ruby2.5_2.5.1-1ubuntu1.12_amd64.deb ...\n",
            "Unpacking ruby2.5 (2.5.1-1ubuntu1.12) ...\n",
            "Selecting previously unselected package ruby.\n",
            "Preparing to unpack .../35-ruby_1%3a2.5.1_amd64.deb ...\n",
            "Unpacking ruby (1:2.5.1) ...\n",
            "Selecting previously unselected package rake.\n",
            "Preparing to unpack .../36-rake_12.3.1-1ubuntu0.1_all.deb ...\n",
            "Unpacking rake (12.3.1-1ubuntu0.1) ...\n",
            "Selecting previously unselected package ruby-did-you-mean.\n",
            "Preparing to unpack .../37-ruby-did-you-mean_1.2.0-2_all.deb ...\n",
            "Unpacking ruby-did-you-mean (1.2.0-2) ...\n",
            "Selecting previously unselected package ruby-minitest.\n",
            "Preparing to unpack .../38-ruby-minitest_5.10.3-1_all.deb ...\n",
            "Unpacking ruby-minitest (5.10.3-1) ...\n",
            "Selecting previously unselected package ruby-net-telnet.\n",
            "Preparing to unpack .../39-ruby-net-telnet_0.1.1-2_all.deb ...\n",
            "Unpacking ruby-net-telnet (0.1.1-2) ...\n",
            "Selecting previously unselected package ruby-power-assert.\n",
            "Preparing to unpack .../40-ruby-power-assert_0.3.0-1_all.deb ...\n",
            "Unpacking ruby-power-assert (0.3.0-1) ...\n",
            "Selecting previously unselected package ruby-test-unit.\n",
            "Preparing to unpack .../41-ruby-test-unit_3.2.5-1_all.deb ...\n",
            "Unpacking ruby-test-unit (3.2.5-1) ...\n",
            "Selecting previously unselected package libruby2.5:amd64.\n",
            "Preparing to unpack .../42-libruby2.5_2.5.1-1ubuntu1.12_amd64.deb ...\n",
            "Unpacking libruby2.5:amd64 (2.5.1-1ubuntu1.12) ...\n",
            "Selecting previously unselected package lmodern.\n",
            "Preparing to unpack .../43-lmodern_2.004.5-3_all.deb ...\n",
            "Unpacking lmodern (2.004.5-3) ...\n",
            "Selecting previously unselected package preview-latex-style.\n",
            "Preparing to unpack .../44-preview-latex-style_11.91-1ubuntu1_all.deb ...\n",
            "Unpacking preview-latex-style (11.91-1ubuntu1) ...\n",
            "Selecting previously unselected package tex-gyre.\n",
            "Preparing to unpack .../45-tex-gyre_20160520-1_all.deb ...\n",
            "Unpacking tex-gyre (20160520-1) ...\n",
            "Selecting previously unselected package texlive-fonts-recommended.\n",
            "Preparing to unpack .../46-texlive-fonts-recommended_2017.20180305-1_all.deb ...\n",
            "Unpacking texlive-fonts-recommended (2017.20180305-1) ...\n",
            "Selecting previously unselected package texlive-pictures.\n",
            "Preparing to unpack .../47-texlive-pictures_2017.20180305-1_all.deb ...\n",
            "Unpacking texlive-pictures (2017.20180305-1) ...\n",
            "Selecting previously unselected package texlive-latex-extra.\n",
            "Preparing to unpack .../48-texlive-latex-extra_2017.20180305-2_all.deb ...\n",
            "Unpacking texlive-latex-extra (2017.20180305-2) ...\n",
            "Selecting previously unselected package texlive-plain-generic.\n",
            "Preparing to unpack .../49-texlive-plain-generic_2017.20180305-2_all.deb ...\n",
            "Unpacking texlive-plain-generic (2017.20180305-2) ...\n",
            "Selecting previously unselected package tipa.\n",
            "Preparing to unpack .../50-tipa_2%3a1.3-20_all.deb ...\n",
            "Unpacking tipa (2:1.3-20) ...\n",
            "Setting up libgs9-common (9.26~dfsg+0-0ubuntu0.18.04.17) ...\n",
            "Setting up libkpathsea6:amd64 (2017.20170613.44572-8ubuntu0.1) ...\n",
            "Setting up libjs-jquery (3.2.1-1) ...\n",
            "Setting up libtexlua52:amd64 (2017.20170613.44572-8ubuntu0.1) ...\n",
            "Setting up fonts-droid-fallback (1:6.0.1r16-1.1) ...\n",
            "Setting up libsynctex1:amd64 (2017.20170613.44572-8ubuntu0.1) ...\n",
            "Setting up libptexenc1:amd64 (2017.20170613.44572-8ubuntu0.1) ...\n",
            "Setting up tex-common (6.09) ...\n",
            "debconf: unable to initialize frontend: Dialog\n",
            "debconf: (No usable dialog-like program is installed, so the dialog based frontend cannot be used. at /usr/share/perl5/Debconf/FrontEnd/Dialog.pm line 76.)\n",
            "debconf: falling back to frontend: Readline\n",
            "update-language: texlive-base not installed and configured, doing nothing!\n",
            "Setting up gsfonts (1:8.11+urwcyr1.0.7~pre44-4.4) ...\n",
            "Setting up poppler-data (0.4.8-2) ...\n",
            "Setting up tex-gyre (20160520-1) ...\n",
            "Setting up preview-latex-style (11.91-1ubuntu1) ...\n",
            "Setting up fonts-texgyre (20160520-1) ...\n",
            "Setting up pfb2t1c2pfb (0.3-11) ...\n",
            "Setting up fonts-noto-mono (20171026-2) ...\n",
            "Setting up fonts-lato (2.0-2) ...\n",
            "Setting up libcupsfilters1:amd64 (1.20.2-0ubuntu3.1) ...\n",
            "Setting up libcupsimage2:amd64 (2.2.7-1ubuntu2.9) ...\n",
            "Setting up libjbig2dec0:amd64 (0.13-6) ...\n",
            "Setting up ruby-did-you-mean (1.2.0-2) ...\n",
            "Setting up t1utils (1.41-2) ...\n",
            "Setting up ruby-net-telnet (0.1.1-2) ...\n",
            "Setting up libijs-0.35:amd64 (0.35-13) ...\n",
            "Setting up rubygems-integration (1.11) ...\n",
            "Setting up libpotrace0 (1.14-2) ...\n",
            "Setting up javascript-common (11) ...\n",
            "Setting up ruby-minitest (5.10.3-1) ...\n",
            "Setting up libzzip-0-13:amd64 (0.13.62-3.1ubuntu0.18.04.1) ...\n",
            "Setting up libgs9:amd64 (9.26~dfsg+0-0ubuntu0.18.04.17) ...\n",
            "Setting up libtexluajit2:amd64 (2017.20170613.44572-8ubuntu0.1) ...\n",
            "Setting up fonts-lmodern (2.004.5-3) ...\n",
            "Setting up ruby-power-assert (0.3.0-1) ...\n",
            "Setting up ghostscript (9.26~dfsg+0-0ubuntu0.18.04.17) ...\n",
            "Setting up texlive-binaries (2017.20170613.44572-8ubuntu0.1) ...\n",
            "update-alternatives: using /usr/bin/xdvi-xaw to provide /usr/bin/xdvi.bin (xdvi.bin) in auto mode\n",
            "update-alternatives: using /usr/bin/bibtex.original to provide /usr/bin/bibtex (bibtex) in auto mode\n",
            "Setting up texlive-base (2017.20180305-1) ...\n",
            "mktexlsr: Updating /var/lib/texmf/ls-R-TEXLIVEDIST... \n",
            "mktexlsr: Updating /var/lib/texmf/ls-R-TEXMFMAIN... \n",
            "mktexlsr: Updating /var/lib/texmf/ls-R... \n",
            "mktexlsr: Done.\n",
            "tl-paper: setting paper size for dvips to a4: /var/lib/texmf/dvips/config/config-paper.ps\n",
            "tl-paper: setting paper size for dvipdfmx to a4: /var/lib/texmf/dvipdfmx/dvipdfmx-paper.cfg\n",
            "tl-paper: setting paper size for xdvi to a4: /var/lib/texmf/xdvi/XDvi-paper\n",
            "tl-paper: setting paper size for pdftex to a4: /var/lib/texmf/tex/generic/config/pdftexconfig.tex\n",
            "debconf: unable to initialize frontend: Dialog\n",
            "debconf: (No usable dialog-like program is installed, so the dialog based frontend cannot be used. at /usr/share/perl5/Debconf/FrontEnd/Dialog.pm line 76.)\n",
            "debconf: falling back to frontend: Readline\n",
            "Setting up texlive-fonts-recommended (2017.20180305-1) ...\n",
            "Setting up texlive-plain-generic (2017.20180305-2) ...\n",
            "Setting up texlive-latex-base (2017.20180305-1) ...\n",
            "Setting up lmodern (2.004.5-3) ...\n",
            "Setting up texlive-latex-recommended (2017.20180305-1) ...\n",
            "Setting up texlive-pictures (2017.20180305-1) ...\n",
            "Setting up dvipng (1.15-1) ...\n",
            "Setting up tipa (2:1.3-20) ...\n",
            "Regenerating '/var/lib/texmf/fmtutil.cnf-DEBIAN'... done.\n",
            "Regenerating '/var/lib/texmf/fmtutil.cnf-TEXLIVEDIST'... done.\n",
            "update-fmtutil has updated the following file(s):\n",
            "\t/var/lib/texmf/fmtutil.cnf-DEBIAN\n",
            "\t/var/lib/texmf/fmtutil.cnf-TEXLIVEDIST\n",
            "If you want to activate the changes in the above file(s),\n",
            "you should run fmtutil-sys or fmtutil.\n",
            "Setting up cm-super-minimal (0.3.4-11) ...\n",
            "Setting up texlive-latex-extra (2017.20180305-2) ...\n",
            "Setting up cm-super (0.3.4-11) ...\n",
            "Creating fonts. This may take some time... done.\n",
            "Setting up rake (12.3.1-1ubuntu0.1) ...\n",
            "Setting up ruby2.5 (2.5.1-1ubuntu1.12) ...\n",
            "Setting up ruby (1:2.5.1) ...\n",
            "Setting up ruby-test-unit (3.2.5-1) ...\n",
            "Setting up libruby2.5:amd64 (2.5.1-1ubuntu1.12) ...\n",
            "Processing triggers for mime-support (3.60ubuntu1) ...\n",
            "Processing triggers for libc-bin (2.27-3ubuntu1.6) ...\n",
            "Processing triggers for man-db (2.8.3-2ubuntu0.1) ...\n",
            "Processing triggers for fontconfig (2.12.6-0ubuntu2) ...\n",
            "Processing triggers for tex-common (6.09) ...\n",
            "debconf: unable to initialize frontend: Dialog\n",
            "debconf: (No usable dialog-like program is installed, so the dialog based frontend cannot be used. at /usr/share/perl5/Debconf/FrontEnd/Dialog.pm line 76.)\n",
            "debconf: falling back to frontend: Readline\n",
            "Running updmap-sys. This may take some time... done.\n",
            "Running mktexlsr /var/lib/texmf ... done.\n",
            "Building format(s) --all.\n",
            "\tThis may take some time... done.\n"
          ]
        }
      ],
      "source": [
        "!sudo apt-get install dvipng texlive-latex-extra texlive-fonts-recommended cm-super"
      ]
    },
    {
      "cell_type": "code",
      "execution_count": null,
      "metadata": {
        "colab": {
          "base_uri": "https://localhost:8080/"
        },
        "id": "xLRWwBcKQvdI",
        "outputId": "71b79420-324b-4537-c2d6-f23b32d403e2"
      },
      "outputs": [
        {
          "output_type": "stream",
          "name": "stdout",
          "text": [
            "Looking in indexes: https://pypi.org/simple, https://us-python.pkg.dev/colab-wheels/public/simple/\n",
            "Collecting SciencePlots\n",
            "  Downloading SciencePlots-2.0.1-py3-none-any.whl (15 kB)\n",
            "Requirement already satisfied: matplotlib in /usr/local/lib/python3.8/dist-packages (from SciencePlots) (3.2.2)\n",
            "Requirement already satisfied: kiwisolver>=1.0.1 in /usr/local/lib/python3.8/dist-packages (from matplotlib->SciencePlots) (1.4.4)\n",
            "Requirement already satisfied: cycler>=0.10 in /usr/local/lib/python3.8/dist-packages (from matplotlib->SciencePlots) (0.11.0)\n",
            "Requirement already satisfied: numpy>=1.11 in /usr/local/lib/python3.8/dist-packages (from matplotlib->SciencePlots) (1.21.6)\n",
            "Requirement already satisfied: python-dateutil>=2.1 in /usr/local/lib/python3.8/dist-packages (from matplotlib->SciencePlots) (2.8.2)\n",
            "Requirement already satisfied: pyparsing!=2.0.4,!=2.1.2,!=2.1.6,>=2.0.1 in /usr/local/lib/python3.8/dist-packages (from matplotlib->SciencePlots) (3.0.9)\n",
            "Requirement already satisfied: six>=1.5 in /usr/local/lib/python3.8/dist-packages (from python-dateutil>=2.1->matplotlib->SciencePlots) (1.15.0)\n",
            "Installing collected packages: SciencePlots\n",
            "Successfully installed SciencePlots-2.0.1\n"
          ]
        }
      ],
      "source": [
        "!pip install SciencePlots"
      ]
    },
    {
      "cell_type": "code",
      "execution_count": null,
      "metadata": {
        "id": "wc1CI2TTVKH4"
      },
      "outputs": [],
      "source": [
        "import pandas as pd\n",
        "import numpy as np\n",
        "import matplotlib.pyplot as plt\n",
        "\n",
        "np.seterr(all=\"ignore\")\n",
        "\n",
        "import os\n",
        "from scipy import signal\n",
        "import pickle\n",
        "from tqdm import tqdm\n",
        "\n",
        "import scienceplots\n",
        "plt.style.use(['science','nature'])"
      ]
    },
    {
      "cell_type": "markdown",
      "metadata": {
        "id": "PWExS1RAUtyW"
      },
      "source": [
        "# Plots"
      ]
    },
    {
      "cell_type": "code",
      "execution_count": null,
      "metadata": {
        "id": "UQ5xIUfYyYai"
      },
      "outputs": [],
      "source": [
        "os.mkdir('/content/figures')"
      ]
    },
    {
      "cell_type": "code",
      "execution_count": null,
      "metadata": {
        "id": "ykqB5NrJNNvR"
      },
      "outputs": [],
      "source": [
        "trscrpt_path = '/content/drive/Shareddrives/Rezonator Data/SBCSAE/'\n",
        "trscrpt_paths = sorted([trscrpt_path+x for x in os.listdir(trscrpt_path) if '.cha' in x.lower()])"
      ]
    },
    {
      "cell_type": "code",
      "execution_count": null,
      "metadata": {
        "colab": {
          "base_uri": "https://localhost:8080/"
        },
        "id": "gzqF7JCJNae0",
        "outputId": "ed29b7b3-b2f1-482f-c395-974d2a9839c3"
      },
      "outputs": [
        {
          "output_type": "stream",
          "name": "stderr",
          "text": [
            "100%|██████████| 60/60 [00:15<00:00,  3.95it/s]\n"
          ]
        }
      ],
      "source": [
        "lens = []\n",
        "\n",
        "for path in tqdm(trscrpt_paths):\n",
        "\n",
        "  with open(path,'r') as f:\n",
        "    a = f.read()\n",
        "\n",
        "  lines = [x.split('\\t',1)[1] for x in a.split('\\n') if ('\\x15' in x)]\n",
        "\n",
        "  for line in lines:\n",
        "    start_ms = int(line.split('\\x15',1)[1].split('_',1)[0])\n",
        "    end_ms = int(line.split('_')[-1].split('\\x15',1)[0])\n",
        "    if (end_ms > start_ms) and (end_ms - start_ms < 40000):\n",
        "      lens.append(round((end_ms-start_ms)/1000,3))\n",
        "\n",
        "lens = np.array(lens)"
      ]
    },
    {
      "cell_type": "code",
      "execution_count": null,
      "metadata": {
        "id": "BmDoFmS4VW1u"
      },
      "outputs": [],
      "source": [
        "df = pd.read_csv('/content/drive/Shareddrives/Ling Thesis/medium_all_data.csv')"
      ]
    },
    {
      "cell_type": "code",
      "execution_count": null,
      "metadata": {
        "id": "EWLtbe7lVihg"
      },
      "outputs": [],
      "source": [
        "df.drop('Unnamed: 0', axis=1, inplace=True)"
      ]
    },
    {
      "cell_type": "code",
      "execution_count": null,
      "metadata": {
        "id": "ISqFl3Dw-D91"
      },
      "outputs": [],
      "source": [
        "def plot_most_freq(s, location='start', relative=False):\n",
        "  ius = np.concatenate(np.array([np.array(x.split(' <|IU_Boundary|> ')) for x in df[s]]))\n",
        "  if location=='start':\n",
        "    iu_starts = [x.split(' ')[0].lower() for x in ius]\n",
        "  elif location == 'end':\n",
        "    iu_starts = [x.split(' ')[-1].lower() for x in ius]\n",
        "  d = {j:len([x for x in iu_starts if x==j]) for j in list(set(iu_starts))}\n",
        "  if relative:\n",
        "    d = {k:d[k]/np.sum(list(d.values())) for k in sorted(d.keys())}\n",
        "  else:\n",
        "    d = {k:d[k] for k in sorted(d.keys())}\n",
        "\n",
        "  most_freq_iu_start_words = pd.DataFrame(d, index = ['freq']).T.sort_values(by='freq', ascending=False).iloc[:10]\n",
        "  plt.bar(most_freq_iu_start_words.index, most_freq_iu_start_words['freq'])\n",
        "\n",
        "  n = f'{s}_{location}_rel_freq'\n",
        "\n",
        "  # plt.title('\\\\textbf{'+n.replace('_', ' ').title()+'}')\n",
        "  plt.savefig(f'figures/{n}.png', dpi=300)\n",
        "  plt.show()"
      ]
    },
    {
      "cell_type": "code",
      "execution_count": null,
      "metadata": {
        "id": "VUG-lX4TcLKG"
      },
      "outputs": [],
      "source": [
        "def load_metrics():\n",
        "  with open('/content/drive/Shareddrives/Ling Thesis/metrics.pkl', 'rb') as f:\n",
        "    metrics = pickle.load(f)\n",
        "\n",
        "  #replace low pass 150hz filter (nan) to baseline accuracy/metrics (all negative preds)\n",
        "  ius = np.concatenate(np.array([np.array(x.split(' <|IU_Boundary|> '), dtype=object) for x in df['actual_transcript']]), dtype=object)\n",
        "\n",
        "  tn = np.sum([len(x.split(' ')) for x in ius])\n",
        "  fn = len(ius) + 2 #total number of boundaries +start bound + end bound\n",
        "  baseline_accuracy = tn/(tn+fn)\n",
        "\n",
        "  metrics['150_low']['accuracy'] = baseline_accuracy\n",
        "  metrics['150_low']['precision'] = 0\n",
        "  metrics['150_low']['recall'] = 0\n",
        "  metrics['150_low']['f1'] = 0\n",
        "\n",
        "  return metrics"
      ]
    },
    {
      "cell_type": "code",
      "source": [
        "plt.rcParams[\"figure.figsize\"] = (4,3)"
      ],
      "metadata": {
        "id": "9Rqfe9TTSrQJ"
      },
      "execution_count": null,
      "outputs": []
    },
    {
      "cell_type": "code",
      "execution_count": null,
      "metadata": {
        "colab": {
          "base_uri": "https://localhost:8080/",
          "height": 262
        },
        "id": "V9_HnUVJGtuT",
        "outputId": "6b92eca9-1b89-40db-adea-c0faf72bd7da"
      },
      "outputs": [
        {
          "output_type": "stream",
          "name": "stderr",
          "text": [
            "<ipython-input-20-4828c9190782>:3: VisibleDeprecationWarning: Creating an ndarray from ragged nested sequences (which is a list-or-tuple of lists-or-tuples-or ndarrays with different lengths or shapes) is deprecated. If you meant to do this, you must specify 'dtype=object' when creating the ndarray.\n",
            "  ius = np.concatenate(np.array([np.array(x.split(' <|IU_Boundary|> ')) for x in df[s]]))\n"
          ]
        },
        {
          "output_type": "display_data",
          "data": {
            "text/plain": [
              "<Figure size 288x216 with 1 Axes>"
            ],
            "image/png": "[encoded data removed]"
          },
          "metadata": {
            "needs_background": "light"
          }
        }
      ],
      "source": [
        "for s in ['actual_transcript', 'model_generated']:\n",
        "  \n",
        "  ius = np.concatenate(np.array([np.array(x.split(' <|IU_Boundary|> ')) for x in df[s]]))\n",
        "  ius_lens = [len(x.split(' ')) for x in ius]\n",
        "  ius_lens = np.array(ius_lens)\n",
        "\n",
        "  if s == 'actual_transcript':\n",
        "    plt.hist(ius_lens, bins=max(ius_lens)-min(ius_lens), weights=np.zeros_like(ius_lens) + 1. / ius_lens.size, label='Actual')\n",
        "  else:\n",
        "    plt.hist(ius_lens, bins=max(ius_lens)-min(ius_lens), fill=None, hatch='///', weights=np.zeros_like(ius_lens) + 1. / ius_lens.size, label = 'PSST')\n",
        "\n",
        "plt.xticks(np.arange(min(ius_lens), max(ius_lens)+1, 1.0))\n",
        "plt.xlim([0.8, 15.9])\n",
        "plt.tick_params(axis='x', which='minor', bottom=False, top=False)\n",
        "plt.tick_params(axis='y', which='both', left=False, right=False)\n",
        "\n",
        "plt.legend()\n",
        "plt.xlabel('Number of Words in IU')\n",
        "plt.ylabel('Rel. Frequency')\n",
        "# plt.title('\\\\textbf{IU Length Distribution (words)}')\n",
        "plt.savefig('figures/rel_freq_words.png', dpi=300)\n",
        "plt.show()"
      ]
    },
    {
      "cell_type": "code",
      "execution_count": null,
      "metadata": {
        "colab": {
          "base_uri": "https://localhost:8080/",
          "height": 262
        },
        "id": "bM1Sou7UrBvm",
        "outputId": "0acf60cf-a0c6-4c8a-879d-33de94a058d3"
      },
      "outputs": [
        {
          "output_type": "stream",
          "name": "stderr",
          "text": [
            "<ipython-input-21-c64258baa0b4>:3: VisibleDeprecationWarning: Creating an ndarray from ragged nested sequences (which is a list-or-tuple of lists-or-tuples-or ndarrays with different lengths or shapes) is deprecated. If you meant to do this, you must specify 'dtype=object' when creating the ndarray.\n",
            "  ius = np.concatenate(np.array([np.array(x.split(' <|IU_Boundary|> ')) for x in df[s]]))\n"
          ]
        },
        {
          "output_type": "display_data",
          "data": {
            "text/plain": [
              "<Figure size 288x216 with 1 Axes>"
            ],
            "image/png": "[encoded data removed]"
          },
          "metadata": {
            "needs_background": "light"
          }
        }
      ],
      "source": [
        "for s in ['actual_transcript', 'model_generated']:\n",
        "  \n",
        "  ius = np.concatenate(np.array([np.array(x.split(' <|IU_Boundary|> ')) for x in df[s]]))\n",
        "  ius_lens = [len(x.split(' ')) for x in ius]\n",
        "  ius_lens = np.array(ius_lens)\n",
        "\n",
        "  if s == 'actual_transcript':\n",
        "    plt.hist(ius_lens, bins=max(ius_lens)-min(ius_lens), log=True, weights=np.zeros_like(ius_lens) + 1. / ius_lens.size, label='Actual')\n",
        "  else:\n",
        "    plt.hist(ius_lens, bins=max(ius_lens)-min(ius_lens), log=True, fill=None, hatch='///', weights=np.zeros_like(ius_lens) + 1. / ius_lens.size, label = 'PSST')\n",
        "\n",
        "plt.xticks(np.arange(min(ius_lens), max(ius_lens)+1, 1.0))\n",
        "plt.xlim([0.8, 15.9])\n",
        "plt.tick_params(axis='x', which='minor', bottom=False, top=False)\n",
        "plt.tick_params(axis='y', which='both', left=False, right=False)\n",
        "\n",
        "plt.legend()\n",
        "plt.xlabel('Number of Words in IU')\n",
        "plt.ylabel('Rel. Frequency (Log Scale)')\n",
        "# plt.title('\\\\textbf{IU Length Distribution (words)}')\n",
        "plt.savefig('figures/rel_freq_words_log.png', dpi=300)\n",
        "plt.show()"
      ]
    },
    {
      "cell_type": "code",
      "execution_count": null,
      "metadata": {
        "id": "SgZqwyaA4i3C"
      },
      "outputs": [],
      "source": [
        "df['num_units_gen'] = [len(x.split(' <|IU_Boundary|> ')) for x in df['model_generated']]\n",
        "df['num_units_actual'] = [len(x.split(' <|IU_Boundary|> ')) for x in df['actual_transcript']]\n",
        "\n",
        "df['audio_len_per_gen'] = df['audio_len']/df['num_units_gen']\n",
        "df['audio_len_per_actual'] = df['audio_len']/df['num_units_actual']\n",
        "\n",
        "d = {}\n",
        "\n",
        "for s in ['gen','actual']:\n",
        "  d[s] = []\n",
        "\n",
        "  for n, l in zip(df[f'num_units_{s}'], df[f'audio_len_per_{s}']):\n",
        "    for i in range(n):\n",
        "      d[s].append(l)\n",
        "\n",
        "  d[s] = np.array(d[s])"
      ]
    },
    {
      "cell_type": "code",
      "execution_count": null,
      "metadata": {
        "colab": {
          "base_uri": "https://localhost:8080/",
          "height": 207
        },
        "id": "2NTzMy2Vtaos",
        "outputId": "ae2e843d-cedd-4c3e-a33d-84228a90ef74"
      },
      "outputs": [
        {
          "output_type": "display_data",
          "data": {
            "text/plain": [
              "<Figure size 288x216 with 1 Axes>"
            ],
            "image/png": "[encoded data removed]"
          },
          "metadata": {
            "needs_background": "light"
          }
        }
      ],
      "source": [
        "plt.hist(d['actual'], bins=80, weights=np.zeros_like(d['actual']) + 1. / d['actual'].size, label='Actual', range=(0, 20))\n",
        "plt.hist(d['gen'], bins=80, fill=None, hatch='///', weights=np.zeros_like(ius_lens) + 1. / ius_lens.size, label = 'PSST', range=(0, 20))\n",
        "plt.legend()\n",
        "plt.xlabel('Number of Seconds in IU')\n",
        "plt.ylabel('Rel. Frequency')\n",
        "\n",
        "plt.tick_params(axis='x', which='minor', bottom=False, top=False)\n",
        "plt.tick_params(axis='y', which='both', left=False, right=False)\n",
        "plt.xlim([-0.1, 4.9])\n",
        "\n",
        "# plt.title('\\\\textbf{IU Length Distribution (seconds)}')\n",
        "plt.savefig('figures/rel_freq_seconds.png', dpi=300)"
      ]
    },
    {
      "cell_type": "code",
      "execution_count": null,
      "metadata": {
        "colab": {
          "base_uri": "https://localhost:8080/",
          "height": 207
        },
        "id": "xNiCjI_COTH_",
        "outputId": "57b1264b-83d3-4129-cb09-bbcbe08413e0"
      },
      "outputs": [
        {
          "output_type": "display_data",
          "data": {
            "text/plain": [
              "<Figure size 288x216 with 1 Axes>"
            ],
            "image/png": "[encoded data removed]"
          },
          "metadata": {
            "needs_background": "light"
          }
        }
      ],
      "source": [
        "plt.hist(d['actual'], bins=20, log=True, weights=np.zeros_like(d['actual']) + 1. / d['actual'].size, label='Actual', range=(0, 20))\n",
        "plt.hist(d['gen'], bins=20, fill=None, hatch='///', log=True, weights=np.zeros_like(ius_lens) + 1. / ius_lens.size, label = 'PSST', range=(0, 20))\n",
        "plt.legend()\n",
        "plt.xlabel('Number of Seconds in IU')\n",
        "plt.ylabel('Rel. Frequency (Log Scale)')\n",
        "\n",
        "plt.tick_params(axis='x', which='minor', bottom=False, top=False)\n",
        "plt.tick_params(axis='y', which='both', left=False, right=False)\n",
        "plt.xlim([-0.1, 17.9])\n",
        "\n",
        "# plt.title('\\\\textbf{IU Length Distribution (seconds)}')\n",
        "plt.savefig('figures/rel_freq_seconds_log.jpg', dpi=300)"
      ]
    },
    {
      "cell_type": "code",
      "source": [
        "plt.rcParams[\"figure.figsize\"] = (6.5,3)"
      ],
      "metadata": {
        "id": "lEtoTFHsNo1f"
      },
      "execution_count": null,
      "outputs": []
    },
    {
      "cell_type": "code",
      "source": [
        "plt.subplot(1, 2, 1)\n",
        "for s in ['actual_transcript', 'model_generated']:\n",
        "  \n",
        "  ius = np.concatenate(np.array([np.array(x.split(' <|IU_Boundary|> ')) for x in df[s]]))\n",
        "  ius_lens = [len(x.split(' ')) for x in ius]\n",
        "  ius_lens = np.array(ius_lens)\n",
        "\n",
        "  if s == 'actual_transcript':\n",
        "    plt.hist(ius_lens, bins=max(ius_lens)-min(ius_lens), weights=np.zeros_like(ius_lens) + 1. / ius_lens.size, label='Actual')\n",
        "  else:\n",
        "    plt.hist(ius_lens, bins=max(ius_lens)-min(ius_lens), fill=None, hatch='///', weights=np.zeros_like(ius_lens) + 1. / ius_lens.size, label = 'PSST')\n",
        "\n",
        "plt.xticks(np.arange(min(ius_lens), max(ius_lens)+1, 1.0))\n",
        "plt.xlim([0.8, 15.9])\n",
        "plt.tick_params(axis='x', which='minor', bottom=False, top=False)\n",
        "plt.tick_params(axis='y', which='both', left=False, right=False)\n",
        "\n",
        "# plt.legend()\n",
        "plt.xlabel('Number of Words in IU')\n",
        "plt.ylabel('Rel. Frequency')\n",
        "# plt.title('\\\\textbf{IU Length Distribution (words)}')\n",
        "# plt.savefig('figures/rel_freq_words.png', dpi=300)\n",
        "# plt.show()\n",
        "\n",
        "#######################################################\n",
        "\n",
        "df['num_units_gen'] = [len(x.split(' <|IU_Boundary|> ')) for x in df['model_generated']]\n",
        "df['num_units_actual'] = [len(x.split(' <|IU_Boundary|> ')) for x in df['actual_transcript']]\n",
        "\n",
        "df['audio_len_per_gen'] = df['audio_len']/df['num_units_gen']\n",
        "df['audio_len_per_actual'] = df['audio_len']/df['num_units_actual']\n",
        "\n",
        "d = {}\n",
        "\n",
        "for s in ['gen','actual']:\n",
        "  d[s] = []\n",
        "\n",
        "  for n, l in zip(df[f'num_units_{s}'], df[f'audio_len_per_{s}']):\n",
        "    for i in range(n):\n",
        "      d[s].append(l)\n",
        "\n",
        "  d[s] = np.array(d[s])\n",
        "\n",
        "#######################################################  \n",
        "plt.subplot(1, 2, 2)\n",
        "plt.hist(d['actual'], bins=80, weights=np.zeros_like(d['actual']) + 1. / d['actual'].size, label='Actual', range=(0, 20))\n",
        "plt.hist(d['gen'], bins=80, fill=None, hatch='///', weights=np.zeros_like(ius_lens) + 1. / ius_lens.size, label = 'PSST', range=(0, 20))\n",
        "plt.legend()\n",
        "plt.xlabel('Number of Seconds in IU')\n",
        "# plt.ylabel('Rel. Frequency')\n",
        "\n",
        "plt.tick_params(axis='x', which='minor', bottom=False, top=False)\n",
        "plt.tick_params(axis='y', which='both', left=False, right=False)\n",
        "plt.xlim([-0.1, 4.9])\n",
        "\n",
        "# plt.title('\\\\textbf{IU Length Distribution (seconds)}')\n",
        "plt.savefig('figures/rel_freq_combined.png', dpi=300)"
      ],
      "metadata": {
        "colab": {
          "base_uri": "https://localhost:8080/",
          "height": 262
        },
        "id": "jL39WJkjNo39",
        "outputId": "471b0e1d-85db-4ced-f069-ef97417f1691"
      },
      "execution_count": null,
      "outputs": [
        {
          "output_type": "stream",
          "name": "stderr",
          "text": [
            "<ipython-input-26-4dd42ec2cf01>:4: VisibleDeprecationWarning: Creating an ndarray from ragged nested sequences (which is a list-or-tuple of lists-or-tuples-or ndarrays with different lengths or shapes) is deprecated. If you meant to do this, you must specify 'dtype=object' when creating the ndarray.\n",
            "  ius = np.concatenate(np.array([np.array(x.split(' <|IU_Boundary|> ')) for x in df[s]]))\n"
          ]
        },
        {
          "output_type": "display_data",
          "data": {
            "text/plain": [
              "<Figure size 468x216 with 2 Axes>"
            ],
            "image/png": "[encoded data removed]"
          },
          "metadata": {
            "needs_background": "light"
          }
        }
      ]
    },
    {
      "cell_type": "code",
      "source": [
        "plt.rcParams[\"figure.figsize\"] = (4,3)"
      ],
      "metadata": {
        "id": "HhP64qYdOXpC"
      },
      "execution_count": null,
      "outputs": []
    },
    {
      "cell_type": "code",
      "execution_count": null,
      "metadata": {
        "colab": {
          "base_uri": "https://localhost:8080/",
          "height": 252
        },
        "id": "HTOE4ocB8118",
        "outputId": "ebf1e2ed-d848-4811-d02f-83ec8cc0ec2a"
      },
      "outputs": [
        {
          "output_type": "stream",
          "name": "stderr",
          "text": [
            "<ipython-input-17-12a7643b2aeb>:2: VisibleDeprecationWarning: Creating an ndarray from ragged nested sequences (which is a list-or-tuple of lists-or-tuples-or ndarrays with different lengths or shapes) is deprecated. If you meant to do this, you must specify 'dtype=object' when creating the ndarray.\n",
            "  ius = np.concatenate(np.array([np.array(x.split(' <|IU_Boundary|> ')) for x in df[s]]))\n"
          ]
        },
        {
          "output_type": "display_data",
          "data": {
            "text/plain": [
              "<Figure size 288x216 with 1 Axes>"
            ],
            "image/png": "[encoded data removed]"
          },
          "metadata": {
            "needs_background": "light"
          }
        }
      ],
      "source": [
        "plot_most_freq('actual_transcript', location='start', relative=True)"
      ]
    },
    {
      "cell_type": "code",
      "execution_count": null,
      "metadata": {
        "colab": {
          "base_uri": "https://localhost:8080/",
          "height": 252
        },
        "id": "D0tyMa0g_FUU",
        "outputId": "f1aee188-08e5-4ee5-91b6-57fc8d23f025"
      },
      "outputs": [
        {
          "output_type": "stream",
          "name": "stderr",
          "text": [
            "<ipython-input-17-12a7643b2aeb>:2: VisibleDeprecationWarning: Creating an ndarray from ragged nested sequences (which is a list-or-tuple of lists-or-tuples-or ndarrays with different lengths or shapes) is deprecated. If you meant to do this, you must specify 'dtype=object' when creating the ndarray.\n",
            "  ius = np.concatenate(np.array([np.array(x.split(' <|IU_Boundary|> ')) for x in df[s]]))\n"
          ]
        },
        {
          "output_type": "display_data",
          "data": {
            "text/plain": [
              "<Figure size 288x216 with 1 Axes>"
            ],
            "image/png": "[encoded data removed]"
          },
          "metadata": {
            "needs_background": "light"
          }
        }
      ],
      "source": [
        "plot_most_freq('model_generated', location='start', relative=True)"
      ]
    },
    {
      "cell_type": "code",
      "execution_count": null,
      "metadata": {
        "colab": {
          "base_uri": "https://localhost:8080/",
          "height": 252
        },
        "id": "nKhbAUlE94vw",
        "outputId": "f66ed483-aee0-41a4-c53e-afcc415f4024"
      },
      "outputs": [
        {
          "output_type": "stream",
          "name": "stderr",
          "text": [
            "<ipython-input-17-12a7643b2aeb>:2: VisibleDeprecationWarning: Creating an ndarray from ragged nested sequences (which is a list-or-tuple of lists-or-tuples-or ndarrays with different lengths or shapes) is deprecated. If you meant to do this, you must specify 'dtype=object' when creating the ndarray.\n",
            "  ius = np.concatenate(np.array([np.array(x.split(' <|IU_Boundary|> ')) for x in df[s]]))\n"
          ]
        },
        {
          "output_type": "display_data",
          "data": {
            "text/plain": [
              "<Figure size 288x216 with 1 Axes>"
            ],
            "image/png": "[encoded data removed]"
          },
          "metadata": {
            "needs_background": "light"
          }
        }
      ],
      "source": [
        "plot_most_freq('actual_transcript', location = 'end', relative=True)"
      ]
    },
    {
      "cell_type": "code",
      "execution_count": null,
      "metadata": {
        "colab": {
          "base_uri": "https://localhost:8080/",
          "height": 252
        },
        "id": "BHwE2GiS_IcL",
        "outputId": "01581b20-5215-4124-8d96-c76dd9fc27ce"
      },
      "outputs": [
        {
          "output_type": "stream",
          "name": "stderr",
          "text": [
            "<ipython-input-17-12a7643b2aeb>:2: VisibleDeprecationWarning: Creating an ndarray from ragged nested sequences (which is a list-or-tuple of lists-or-tuples-or ndarrays with different lengths or shapes) is deprecated. If you meant to do this, you must specify 'dtype=object' when creating the ndarray.\n",
            "  ius = np.concatenate(np.array([np.array(x.split(' <|IU_Boundary|> ')) for x in df[s]]))\n"
          ]
        },
        {
          "output_type": "display_data",
          "data": {
            "text/plain": [
              "<Figure size 288x216 with 1 Axes>"
            ],
            "image/png": "[encoded data removed]"
          },
          "metadata": {
            "needs_background": "light"
          }
        }
      ],
      "source": [
        "plot_most_freq('model_generated', location = 'end', relative=True)"
      ]
    },
    {
      "cell_type": "code",
      "source": [
        "plt.rcParams[\"figure.figsize\"] = (6.5,3)"
      ],
      "metadata": {
        "id": "vEVVWDTCO9gR"
      },
      "execution_count": null,
      "outputs": []
    },
    {
      "cell_type": "code",
      "source": [
        "plt.rcParams.update({'font.size': 50})"
      ],
      "metadata": {
        "id": "vSTYUorK9Cq7"
      },
      "execution_count": null,
      "outputs": []
    },
    {
      "cell_type": "code",
      "execution_count": null,
      "metadata": {
        "colab": {
          "base_uri": "https://localhost:8080/",
          "height": 208
        },
        "id": "s6GHu22H92zU",
        "outputId": "52c9d151-aab3-4980-dd42-2948c7348829"
      },
      "outputs": [
        {
          "output_type": "display_data",
          "data": {
            "text/plain": [
              "<Figure size 468x216 with 2 Axes>"
            ],
            "image/png": "[encoded data removed]"
          },
          "metadata": {
            "needs_background": "light"
          }
        }
      ],
      "source": [
        "plt.subplot(1, 2, 1)\n",
        "for frq in [(150, 0.15, '150 Hz (F0*)'),(500, 0.4, '500 Hz (F1*)'),(1500, 0.7, '1.5 kHz (F2*)'),(2500, 1, '2.5 kHz (F3*)')]:\n",
        "  b, a = signal.butter(4, frq[0], 'low', analog=True)\n",
        "  w, h = signal.freqs(b, a)\n",
        "  plt.semilogx(w, 20 * np.log10(abs(h)), label = f'{frq[2]}', linewidth=3)\n",
        "  plt.axvline(frq[0], linestyle='--', color='grey') # cutoff frequency\n",
        "\n",
        "# plt.title('\\\\textbf{Low Pass Filters}')\n",
        "plt.xlabel('Low-Pass Frequency (hz)')\n",
        "plt.ylabel('Decibels')\n",
        "plt.plot([10,100],[0,0], color = 'red', linewidth=3)\n",
        "plt.xlim([11, 10e3])\n",
        "plt.ylim([-20, 1])\n",
        "plt.legend()\n",
        "\n",
        "# plt.savefig('figures/low_pass_filters.png', dpi=300)\n",
        "# plt.show()\n",
        "\n",
        "plt.subplot(1, 2, 2)\n",
        "for frq in [(150, 0.15, 'F0'),(500, 0.4, 'F1'),(1500, 0.7, 'F2'),(2500, 1, 'F3')]:\n",
        "  b, a = signal.butter(4, frq[0], 'high', analog=True)\n",
        "  w, h = signal.freqs(b, a)\n",
        "  # plt.semilogx(w, 20 * np.log10(abs(h)), color = 'black', alpha=frq[1], label = f'{frq[0]} hz ({frq[2]})', linewidth=3)\n",
        "  # plt.axvline(frq[0], alpha=frq[1], color = 'black', linestyle='--') # cutoff frequency\n",
        "  plt.semilogx(w, 20 * np.log10(abs(h)), label = f'{frq[0]} hz ({frq[2]})', linewidth=3)\n",
        "  plt.axvline(frq[0], linestyle='--', color='grey')\n",
        "\n",
        "# plt.title('\\\\textbf{High Pass Filters}')\n",
        "plt.xlabel('High-Pass Frequency (hz)')\n",
        "plt.xlim([25, 10e3])\n",
        "plt.ylim([-20, 1])\n",
        "plt.tick_params(axis='y', labelleft=False)\n",
        "# plt.legend()\n",
        "\n",
        "plt.subplots_adjust(wspace=0.05, hspace=0)\n",
        "plt.savefig('figures/filters.png', dpi=300)\n",
        "plt.show()"
      ]
    },
    {
      "cell_type": "code",
      "execution_count": null,
      "metadata": {
        "colab": {
          "base_uri": "https://localhost:8080/",
          "height": 208
        },
        "id": "WifPZPxiyMh4",
        "outputId": "b54bc687-b667-48bb-c5f3-1665e06400cb"
      },
      "outputs": [
        {
          "output_type": "display_data",
          "data": {
            "text/plain": [
              "<Figure size 288x216 with 1 Axes>"
            ],
            "image/png": "[encoded data removed]"
          },
          "metadata": {
            "needs_background": "light"
          }
        }
      ],
      "source": [
        "plt.rcParams[\"figure.figsize\"] = (4,3)\n",
        "\n",
        "for frq in [(150, 0.15, '$\\sim$F0'),(500, 0.4, '$\\sim$F1'),(1500, 0.7, '$\\sim$F2'),(2500, 1, '$\\sim$F3')]:\n",
        "  b, a = signal.butter(4, frq[0], 'high', analog=True)\n",
        "  w, h = signal.freqs(b, a)\n",
        "  # plt.semilogx(w, 20 * np.log10(abs(h)), color = 'black', alpha=frq[1], label = f'{frq[0]} hz ({frq[2]})', linewidth=3)\n",
        "  # plt.axvline(frq[0], alpha=frq[1], color = 'black', linestyle='--') # cutoff frequency\n",
        "  plt.semilogx(w, 20 * np.log10(abs(h)), label = f'{frq[0]} hz ({frq[2]})', linewidth=3)\n",
        "  plt.axvline(frq[0], linestyle='--', color='grey')\n",
        "\n",
        "# plt.title('\\\\textbf{High Pass Filters}')\n",
        "plt.xlabel('Frequency (hz)')\n",
        "plt.ylabel('Decibels')\n",
        "plt.xlim([10, 10e3])\n",
        "plt.ylim([-290, 10])\n",
        "plt.legend()\n",
        "\n",
        "plt.savefig('figures/high_pass_filters.png', dpi=300)\n",
        "plt.show()"
      ]
    },
    {
      "cell_type": "code",
      "execution_count": null,
      "metadata": {
        "colab": {
          "base_uri": "https://localhost:8080/"
        },
        "id": "THzzxbicasjy",
        "outputId": "e60ec09e-5a5c-488b-ba05-d7f624d027a1"
      },
      "outputs": [
        {
          "output_type": "stream",
          "name": "stderr",
          "text": [
            "<ipython-input-18-e5fedc261c20>:6: VisibleDeprecationWarning: Creating an ndarray from ragged nested sequences (which is a list-or-tuple of lists-or-tuples-or ndarrays with different lengths or shapes) is deprecated. If you meant to do this, you must specify 'dtype=object' when creating the ndarray.\n",
            "  ius = np.concatenate(np.array([np.array(x.split(' <|IU_Boundary|> '), dtype=object) for x in df['actual_transcript']]), dtype=object)\n"
          ]
        }
      ],
      "source": [
        "metrics = load_metrics()"
      ]
    },
    {
      "cell_type": "code",
      "execution_count": null,
      "metadata": {
        "id": "ox8rK7GwbJbZ"
      },
      "outputs": [],
      "source": [
        "metric_df = pd.DataFrame(metrics).T"
      ]
    },
    {
      "cell_type": "code",
      "execution_count": null,
      "metadata": {
        "id": "j0Z8mstybqK-"
      },
      "outputs": [],
      "source": [
        "metric_df.sort_values(by='accuracy',ascending=False, inplace=True)"
      ]
    },
    {
      "cell_type": "code",
      "execution_count": null,
      "metadata": {
        "id": "7OSd3DZ2c8RF"
      },
      "outputs": [],
      "source": [
        "metric_df.index = [x.replace('_',' ').replace('baseline (','').replace(')','') for x in metric_df.index]\n",
        "# metric_df = metric_df.drop('150 low')"
      ]
    },
    {
      "cell_type": "code",
      "source": [
        "plt.rcParams[\"figure.figsize\"] = (4,3)"
      ],
      "metadata": {
        "id": "vAQ_nOBfOvt9"
      },
      "execution_count": null,
      "outputs": []
    },
    {
      "cell_type": "code",
      "execution_count": null,
      "metadata": {
        "colab": {
          "base_uri": "https://localhost:8080/",
          "height": 222
        },
        "id": "DzaykQzedbmT",
        "outputId": "2bbb15d8-87e3-4fc3-f2a3-de82a45a9b64"
      },
      "outputs": [
        {
          "output_type": "display_data",
          "data": {
            "text/plain": [
              "<Figure size 288x216 with 1 Axes>"
            ],
            "image/png": "[encoded data removed]"
          },
          "metadata": {
            "needs_background": "light"
          }
        }
      ],
      "source": [
        "plt.plot(metric_df.index, metric_df['accuracy'], marker='o', label='Accuracy')\n",
        "plt.plot(metric_df.index, metric_df['precision'], label='Precision')\n",
        "plt.plot(metric_df.index, metric_df['recall'], label='Recall')\n",
        "plt.plot(metric_df.index, metric_df['f1'], marker='D', label='F1 Score')\n",
        "plt.legend()\n",
        "plt.xticks(rotation=60)\n",
        "plt.tick_params(axis='x', which='minor', bottom=False, top=False)\n",
        "# plt.title('\\\\textbf{Performance with Frequency Reductions}')\n",
        "plt.savefig('figures/filter_metrics.png', dpi=300)"
      ]
    },
    {
      "cell_type": "code",
      "source": [
        "high_pass = metric_df.loc[['150 high','500 high','1500 high','2500 high']]\n",
        "high_pass.index = ['150 Hz','500 Hz','1500 Hz','2500 Hz']\n",
        "\n",
        "low_pass = metric_df.loc[['150 low','500 low','1500 low','2500 low']]\n",
        "low_pass.index = ['150 Hz','500 Hz','1500 Hz','2500 Hz']"
      ],
      "metadata": {
        "id": "8mv-YjkWXdc3"
      },
      "execution_count": null,
      "outputs": []
    },
    {
      "cell_type": "code",
      "source": [
        "plt.plot(high_pass.index, high_pass['f1'], label='High Pass Filters', marker='o', linewidth=3)\n",
        "plt.plot(low_pass.index, low_pass['f1'], label='Low Pass Filters', linewidth=3)\n",
        "plt.ylabel('F1 Score')\n",
        "plt.tick_params(axis='x', which='minor', bottom=False, top=False)\n",
        "plt.legend()\n",
        "plt.savefig('figures/filter_hpvslp.png', dpi=300)"
      ],
      "metadata": {
        "colab": {
          "base_uri": "https://localhost:8080/",
          "height": 197
        },
        "id": "09C3VFxkavLQ",
        "outputId": "725fd25e-2a37-4fa4-b634-5cea4541715d"
      },
      "execution_count": null,
      "outputs": [
        {
          "output_type": "display_data",
          "data": {
            "text/plain": [
              "<Figure size 288x216 with 1 Axes>"
            ],
            "image/png": "[encoded data removed]"
          },
          "metadata": {
            "needs_background": "light"
          }
        }
      ]
    },
    {
      "cell_type": "code",
      "execution_count": null,
      "metadata": {
        "id": "UAT8Gk1skLIB"
      },
      "outputs": [],
      "source": [
        "for col in metric_df.columns:\n",
        "  metric_df[col] = [round(float(x), 3) for x in metric_df[col]]"
      ]
    },
    {
      "cell_type": "code",
      "execution_count": null,
      "metadata": {
        "colab": {
          "base_uri": "https://localhost:8080/",
          "height": 105
        },
        "id": "SUBHAEVmk1H1",
        "outputId": "c49669ef-0bbd-46c9-ce9f-f26b394c682f"
      },
      "outputs": [
        {
          "output_type": "execute_result",
          "data": {
            "text/plain": [
              "'\\\\begin{tabular}{lrrrr}\\n\\\\toprule\\n{} &  accuracy &  precision &  recall &     f1 \\\\\\\\\\n\\\\midrule\\n150 high   &     0.958 &      0.873 &   0.875 &  0.874 \\\\\\\\\\nfilterless &     0.957 &      0.868 &   0.870 &  0.869 \\\\\\\\\\n500 high   &     0.951 &      0.870 &   0.830 &  0.850 \\\\\\\\\\n2500 low   &     0.949 &      0.854 &   0.829 &  0.841 \\\\\\\\\\n1500 low   &     0.938 &      0.822 &   0.805 &  0.813 \\\\\\\\\\n1500 high  &     0.922 &      0.800 &   0.733 &  0.765 \\\\\\\\\\n500 low    &     0.895 &      0.685 &   0.685 &  0.685 \\\\\\\\\\n2500 high  &     0.882 &      0.708 &   0.611 &  0.656 \\\\\\\\\\n150 low    &     0.800 &      0.000 &   0.000 &  0.000 \\\\\\\\\\n\\\\bottomrule\\n\\\\end{tabular}\\n'"
            ],
            "application/vnd.google.colaboratory.intrinsic+json": {
              "type": "string"
            }
          },
          "metadata": {},
          "execution_count": 44
        }
      ],
      "source": [
        "metric_df.to_latex()"
      ]
    },
    {
      "cell_type": "code",
      "source": [
        "with open('/content/drive/Shareddrives/Ling Thesis/f1_acc_len.pkl', 'rb') as f:\n",
        "  d = pickle.load(f)"
      ],
      "metadata": {
        "id": "zIwibkcw4b04"
      },
      "execution_count": null,
      "outputs": []
    },
    {
      "cell_type": "code",
      "source": [
        "plt.bar(list(d['f1_len'].keys())[:30], list(d['f1_len'].values())[:30])\n",
        "plt.savefig('figures/f1_len.png', dpi=300)"
      ],
      "metadata": {
        "colab": {
          "base_uri": "https://localhost:8080/",
          "height": 197
        },
        "id": "d9QJsiJi8DYt",
        "outputId": "b1810db2-66d3-4639-dfc1-f7676174a8cf"
      },
      "execution_count": null,
      "outputs": [
        {
          "output_type": "display_data",
          "data": {
            "text/plain": [
              "<Figure size 288x216 with 1 Axes>"
            ],
            "image/png": "[encoded data removed]"
          },
          "metadata": {
            "needs_background": "light"
          }
        }
      ]
    },
    {
      "cell_type": "code",
      "source": [
        "plt.bar(list(d['acc_len'].keys())[:30], list(d['acc_len'].values())[:30])\n",
        "plt.savefig('figures/acc_len.png', dpi=300)"
      ],
      "metadata": {
        "colab": {
          "base_uri": "https://localhost:8080/",
          "height": 197
        },
        "id": "kjzmvEyc78Oq",
        "outputId": "1f5107bf-e2ee-4647-b340-050943c54eb8"
      },
      "execution_count": null,
      "outputs": [
        {
          "output_type": "display_data",
          "data": {
            "text/plain": [
              "<Figure size 288x216 with 1 Axes>"
            ],
            "image/png": "[encoded data removed]"
          },
          "metadata": {
            "needs_background": "light"
          }
        }
      ]
    },
    {
      "cell_type": "code",
      "source": [],
      "metadata": {
        "id": "0KojEBtj8qx_"
      },
      "execution_count": null,
      "outputs": []
    }
  ],
  "metadata": {
    "colab": {
      "provenance": [],
      "mount_file_id": "1piBFYBrSTwu038Dij1U3rnfjdj6g1_tE",
      "authorship_tag": "ABX9TyPXW1yi2nqZhTxECvKmtag+",
      "include_colab_link": true
    },
    "kernelspec": {
      "display_name": "Python 3",
      "name": "python3"
    },
    "language_info": {
      "name": "python"
    }
  },
  "nbformat": 4,
  "nbformat_minor": 0
}